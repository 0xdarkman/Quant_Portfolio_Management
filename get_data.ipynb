{
 "cells": [
  {
   "cell_type": "code",
   "execution_count": 1,
   "metadata": {},
   "outputs": [],
   "source": [
    "%load_ext autoreload\n",
    "%autoreload 2\n",
    "import warnings\n",
    "warnings.filterwarnings('ignore')\n",
    "import os\n",
    "import path\n",
    "from alpha_vantage.timeseries import TimeSeries\n",
    "import time"
   ]
  },
  {
   "cell_type": "code",
   "execution_count": 2,
   "metadata": {},
   "outputs": [],
   "source": [
    "ts = TimeSeries(output_format='pandas', indexing_type='date')"
   ]
  },
  {
   "cell_type": "code",
   "execution_count": 4,
   "metadata": {},
   "outputs": [],
   "source": [
    "for i in range(1,4):\n",
    "#     dic_intra = {x: ts.get_intraday(x, outputsize='full')[0] for x in path.watch_list['1']}\n",
    "#     dic_daily = {x: ts.get_daily_adjusted(x, outputsize='full')[0] for x in path.watch_list[str(i)]}\n",
    "#     for key, value in dic_daily.items():\n",
    "#         file = os.path.join(path._daily, key + '.csv')\n",
    "#         value.to_csv(file)\n",
    "    \n",
    "    dic_weekly = {x: ts.get_weekly_adjusted(x)[0] for x in path.watch_list[str(i)]}\n",
    "    for key, value in dic_weekly.items():\n",
    "        file = os.path.join(path._weekly, key + '.csv')\n",
    "        value.to_csv(file)\n",
    "        \n",
    "    time.sleep(61) "
   ]
  }
 ],
 "metadata": {
  "kernelspec": {
   "display_name": "Python 3",
   "language": "python",
   "name": "python3"
  },
  "language_info": {
   "codemirror_mode": {
    "name": "ipython",
    "version": 3
   },
   "file_extension": ".py",
   "mimetype": "text/x-python",
   "name": "python",
   "nbconvert_exporter": "python",
   "pygments_lexer": "ipython3",
   "version": "3.6.6"
  }
 },
 "nbformat": 4,
 "nbformat_minor": 2
}
